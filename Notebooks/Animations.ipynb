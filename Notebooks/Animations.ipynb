{
 "cells": [
  {
   "cell_type": "code",
   "execution_count": null,
   "id": "d468511e",
   "metadata": {},
   "outputs": [],
   "source": [
    "using KdVSolitonGas, Plots, LaTeXStrings\n",
    "using Distributed #Used to parallelize evaluations\n",
    "Plots.scalefontsizes(1.5)"
   ]
  },
  {
   "cell_type": "code",
   "execution_count": null,
   "id": "be0ee2dd",
   "metadata": {},
   "outputs": [],
   "source": [
    "intervals = [1. 2.]\n",
    "h(j) = z -> 2.\n",
    "typevecU = 2*ones(size(intervals,1)) .|> Int\n",
    "xv = -10:.05:10\n",
    "\n",
    "# Genus 1 gas\n",
    "u1 = precompute(intervals,h,typevecU);\n",
    "@everywhere u1 = $u1 #Only necessary if parallelizing"
   ]
  },
  {
   "cell_type": "code",
   "execution_count": null,
   "id": "9c6639ac",
   "metadata": {},
   "outputs": [],
   "source": [
    "tvec = 0:0.005:0.65\n",
    "anim = Animation()\n",
    "for (j,t) in enumerate(tvec)\n",
    "    uv = pmap(x -> u1(x,t), xv)\n",
    "    plot(xv,real.(uv),legend=:false, fill = (0,:lightblue), lw=3,  fillrange = -1)\n",
    "    ylims!(-0.1, 8.5)\n",
    "    xlabel!(L\"x\")\n",
    "    ylabel!(L\"u(x,t)\")\n",
    "    title!(L\"t=%$t\")\n",
    "    frame(anim)\n",
    "end"
   ]
  },
  {
   "cell_type": "code",
   "execution_count": null,
   "id": "4263110b",
   "metadata": {},
   "outputs": [],
   "source": [
    "gif(anim,\"gen1-gas.gif\", fps = 8)"
   ]
  },
  {
   "cell_type": "code",
   "execution_count": null,
   "id": "1d19be5b",
   "metadata": {},
   "outputs": [],
   "source": [
    "# Genus 1 gas with soliton\n",
    "u3 = precompute(intervals,3.,1e-7,h,typevecU);\n",
    "@everywhere u3 = $u3"
   ]
  },
  {
   "cell_type": "code",
   "execution_count": null,
   "id": "e9b9f42e",
   "metadata": {},
   "outputs": [],
   "source": [
    "tvec = 0:0.005:0.65\n",
    "anim = Animation()\n",
    "for (j,t) in enumerate(tvec)\n",
    "    uv = pmap(x -> u3(x,t), xv)\n",
    "    plot(xv,real.(uv),legend=:false, fill = (0,:lightblue), lw=3,  fillrange = -1)\n",
    "    ylims!(-0.1, 18.5)\n",
    "    xlabel!(L\"x\")\n",
    "    ylabel!(L\"u(x,t)\")\n",
    "    title!(L\"t=%$t\")\n",
    "    frame(anim)\n",
    "end"
   ]
  },
  {
   "cell_type": "code",
   "execution_count": null,
   "id": "ae449193",
   "metadata": {},
   "outputs": [],
   "source": [
    "gif(anim,\"gen1-gas-wsol.gif\", fps = 8)"
   ]
  },
  {
   "cell_type": "code",
   "execution_count": null,
   "id": "e090eba0",
   "metadata": {},
   "outputs": [],
   "source": [
    "# Genus 1 gas with trapped soliton\n",
    "intervals3 = [1.5 2.5]\n",
    "u4 = precompute(intervals3,1.,10.,h,typevecU);\n",
    "@everywhere u4 = $u4"
   ]
  },
  {
   "cell_type": "code",
   "execution_count": null,
   "id": "a1f7bb40",
   "metadata": {},
   "outputs": [],
   "source": [
    "tvec = 0:0.005:0.65\n",
    "anim = Animation()\n",
    "for (j,t) in enumerate(tvec)\n",
    "    uv = pmap(x -> u4(x,t), xv)\n",
    "    plot(xv,uv),legend=:false, fill = (0,:lightblue), lw=3, fillrange = -1)\n",
    "    ylims!(-0.1, 13.)\n",
    "    xlabel!(L\"x\")\n",
    "    ylabel!(L\"u(x,t)\")\n",
    "    title!(L\"t=%$t\")\n",
    "    frame(anim)\n",
    "end"
   ]
  },
  {
   "cell_type": "code",
   "execution_count": null,
   "id": "a5786fe8",
   "metadata": {},
   "outputs": [],
   "source": [
    "gif(anim,\"gen1-gas-t.gif\", fps = 8)"
   ]
  },
  {
   "cell_type": "code",
   "execution_count": null,
   "id": "b9f3cfc3",
   "metadata": {},
   "outputs": [],
   "source": [
    "anim = Animation()\n",
    "for (j,c) in enumerate(χvec)\n",
    "    uu = precompute(intervals,3.,exp(c),h,typevecU)\n",
    "    @everywhere uu = $uu\n",
    "    uv = pmap(x -> uu(x,0.), xv)\n",
    "    plot(xv,real.(uv),legend=:false, fill = (0,:lightblue), lw=3, fillrange = -1)\n",
    "    ylims!(-0.1, 18.5)\n",
    "    xlabel!(L\"x\")\n",
    "    ylabel!(L\"u(x,0)\")\n",
    "    title!(L\"\\chi=\\exp(%$c)\")\n",
    "    frame(anim)\n",
    "end"
   ]
  },
  {
   "cell_type": "code",
   "execution_count": null,
   "id": "95dffb1c",
   "metadata": {},
   "outputs": [],
   "source": [
    "gif(anim,\"var-norm-const.gif\", fps = 8)"
   ]
  },
  {
   "cell_type": "code",
   "execution_count": null,
   "id": "0de672ff",
   "metadata": {},
   "outputs": [],
   "source": [
    "# Genus 2 gas\n",
    "intervals2 = [1.5 2.2; 2.5 3.]\n",
    "typevecU2 = 2*ones(size(intervals2,1)) .|> Int\n",
    "\n",
    "u2 = precompute(intervals2,h,typevecU2)\n",
    "@everywhere u2 = $u2"
   ]
  },
  {
   "cell_type": "code",
   "execution_count": null,
   "id": "bed52d6c",
   "metadata": {},
   "outputs": [],
   "source": [
    "tvec = 0:0.005:0.27\n",
    "anim = Animation()\n",
    "for (j,t) in enumerate(tvec)\n",
    "    uv = pmap(x -> u2(x,t), xv)\n",
    "    plot(xv,real.(uv),legend=:false, fill = (0,:lightblue), lw=3, fillrange = -1)\n",
    "    ylims!(-0.1, 18.5)\n",
    "    xlabel!(L\"x\")\n",
    "    ylabel!(L\"u(x,t)\")\n",
    "    title!(L\"t=%$t\")\n",
    "    frame(anim)\n",
    "end"
   ]
  },
  {
   "cell_type": "code",
   "execution_count": null,
   "id": "f94c2ad8",
   "metadata": {},
   "outputs": [],
   "source": [
    "gif(anim,\"gen2-gas.gif\", fps = 8)"
   ]
  },
  {
   "cell_type": "code",
   "execution_count": null,
   "id": "2f0fba40",
   "metadata": {},
   "outputs": [],
   "source": [
    "# Genus 2 gas with soliton\n",
    "u5 = precompute(intervals2,3.5,1e-7,h,typevecU2)\n",
    "@everywhere u5 = $u5"
   ]
  },
  {
   "cell_type": "code",
   "execution_count": null,
   "id": "39eb3e51",
   "metadata": {},
   "outputs": [],
   "source": [
    "anim = Animation()\n",
    "tvec = 0:0.005:0.26\n",
    "for (j,t) in enumerate(tvec)\n",
    "    uv = pmap(x -> u5(x,t), xv)\n",
    "    plot(xv,real.(uv),legend=:false, fill = (0,:lightblue), lw=3, fillrange = -1)\n",
    "    ylims!(-0.1, 25)\n",
    "    xlabel!(L\"x\")\n",
    "    ylabel!(L\"u(x,t)\")\n",
    "    title!(L\"t=%$t\")\n",
    "    frame(anim)\n",
    "end"
   ]
  },
  {
   "cell_type": "code",
   "execution_count": null,
   "id": "cf026e40",
   "metadata": {},
   "outputs": [],
   "source": [
    "gif(anim,\"gen2-gas-wsol.gif\", fps = 8)"
   ]
  },
  {
   "cell_type": "code",
   "execution_count": null,
   "id": "f62ca550",
   "metadata": {},
   "outputs": [],
   "source": [
    "# Genus 2 gas with trapped soliton\n",
    "u6 = precompute(intervals2,1.,10.,h,typevecU2)\n",
    "@everywhere u6 = $u6"
   ]
  },
  {
   "cell_type": "code",
   "execution_count": null,
   "id": "45984732",
   "metadata": {},
   "outputs": [],
   "source": [
    "anim = Animation()\n",
    "tvec = 0:0.005:0.26\n",
    "for (j,t) in enumerate(tvec)\n",
    "    uv = pmap(x -> u6(x,t), xv)\n",
    "    plot(xv,real.(uv),legend=:false, fill = (0,:lightblue), lw=3, fillrange = -1)\n",
    "    ylims!(-0.1, 18.5)\n",
    "    xlabel!(L\"x\")\n",
    "    ylabel!(L\"u(x,t)\")\n",
    "    title!(L\"t=%$t\")\n",
    "    frame(anim)\n",
    "end"
   ]
  },
  {
   "cell_type": "code",
   "execution_count": null,
   "id": "649f1f78",
   "metadata": {},
   "outputs": [],
   "source": [
    "gif(anim,\"gen2-gas-tsol.gif\", fps = 8)"
   ]
  },
  {
   "cell_type": "code",
   "execution_count": null,
   "id": "1c7e92a3",
   "metadata": {},
   "outputs": [],
   "source": [
    "# Genus 2 gas with both solitons\n",
    "u7 = precompute(intervals2,[1.; 3.5],[10.; 1e-7],h,typevecU2)\n",
    "@everywhere u7 = $u7"
   ]
  },
  {
   "cell_type": "code",
   "execution_count": null,
   "id": "bd797b00",
   "metadata": {},
   "outputs": [],
   "source": [
    "anim = Animation()\n",
    "tvec = 0:0.005:0.25\n",
    "for (j,t) in enumerate(tvec)\n",
    "    uv = pmap(x -> u7(x,t), xv)\n",
    "    plot(xv,real.(uv),legend=:false, fill = (0,:lightblue), lw=3, fillrange = -1)\n",
    "    ylims!(-0.1, 25)\n",
    "    xlabel!(L\"x\")\n",
    "    ylabel!(L\"u(x,t)\")\n",
    "    title!(L\"t=%$t\")\n",
    "    frame(anim)\n",
    "end"
   ]
  },
  {
   "cell_type": "code",
   "execution_count": null,
   "id": "40644778",
   "metadata": {},
   "outputs": [],
   "source": [
    "gif(anim,\"gen2-gas-bsol.gif\", fps = 8)"
   ]
  },
  {
   "cell_type": "code",
   "execution_count": null,
   "id": "8eb9fa8b",
   "metadata": {},
   "outputs": [],
   "source": [
    "# Genus 3 gas with many solitons\n",
    "intervals4 = [1.5 1.8; 2.5 3.5; 4.0 4.5]\n",
    "typevecU3 = 2*ones(size(intervals4,1)) .|> Int\n",
    "u8 = precompute(intervals4,[1.; 2.1; 3.8; 5.],[10.; 1.; 1.; 1e-6],h,typevecU3)\n",
    "@everywhere u8 = $u8"
   ]
  },
  {
   "cell_type": "code",
   "execution_count": null,
   "id": "444881fe",
   "metadata": {},
   "outputs": [],
   "source": [
    "anim = Animation()\n",
    "tvec = 0:0.0025:0.085\n",
    "for (j,t) in enumerate(tvec)\n",
    "    uv = pmap(x -> u8(x,t), xv)\n",
    "    plot(xv,real.(uv),legend=:false, fill = (0,:lightblue), lw=3, fillrange = -1)\n",
    "    ylims!(-0.1, 50.5)\n",
    "    xlabel!(L\"x\")\n",
    "    ylabel!(L\"u(x,t)\")\n",
    "    title!(L\"t=%$t\")\n",
    "    frame(anim)\n",
    "end"
   ]
  },
  {
   "cell_type": "code",
   "execution_count": null,
   "id": "0d9cee4d",
   "metadata": {},
   "outputs": [],
   "source": [
    "gif(anim,\"gen3-gas.gif\", fps = 8)"
   ]
  }
 ],
 "metadata": {
  "kernelspec": {
   "display_name": "Julia 1.10.1",
   "language": "julia",
   "name": "julia-1.10"
  },
  "language_info": {
   "file_extension": ".jl",
   "mimetype": "application/julia",
   "name": "julia",
   "version": "1.10.1"
  }
 },
 "nbformat": 4,
 "nbformat_minor": 5
}
