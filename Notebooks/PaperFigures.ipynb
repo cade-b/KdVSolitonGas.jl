{
 "cells": [
  {
   "cell_type": "code",
   "execution_count": null,
   "id": "d984f7e5",
   "metadata": {},
   "outputs": [],
   "source": [
    "using Pkg\n",
    "Pkg.activate(\"/home/cade/Research/KdVSolitonGas.jl\")"
   ]
  },
  {
   "cell_type": "code",
   "execution_count": null,
   "id": "c2fd6961",
   "metadata": {},
   "outputs": [],
   "source": [
    "using KdVSolitonGas"
   ]
  },
  {
   "cell_type": "code",
   "execution_count": null,
   "id": "24d170d0",
   "metadata": {},
   "outputs": [],
   "source": [
    "using OperatorApproximation, Plots, LaTeXStrings, Elliptic, BenchmarkTools\n",
    "Plots.scalefontsizes(1.5)"
   ]
  },
  {
   "cell_type": "code",
   "execution_count": null,
   "id": "12d7ac67",
   "metadata": {},
   "outputs": [],
   "source": [
    "intervals = [0.25 0.5; 0.8 1.2; 1.5 2.; 2.5 3.; 4. 5.]\n",
    "typevec = 2*ones(size(intervals,1)) .|> Int\n",
    "function h(j)\n",
    "    if j == 1\n",
    "        return z -> 2.\n",
    "    elseif j == 2\n",
    "        return z -> 1.\n",
    "    elseif j == 3\n",
    "        return z -> 0.5\n",
    "    elseif j == 4\n",
    "        return z -> 0.25\n",
    "    elseif j == 5\n",
    "        return z -> 0.125\n",
    "    end\n",
    "end\n",
    "u = precompute(intervals,[0.1; 0.7; 2.25; 3.5; 5.5],[1e5; 1000.; 100.; 10.; 1e-6],h,typevec);"
   ]
  },
  {
   "cell_type": "code",
   "execution_count": null,
   "id": "469c4fe6",
   "metadata": {},
   "outputs": [],
   "source": [
    "@btime u(-10.,0.;verbose=false)\n",
    "@btime u(-2.,0.;verbose=false)\n",
    "@btime u(-0.5,0.;verbose=false)\n",
    "@btime u(0.5,0.;verbose=false)\n",
    "@btime u(2.,0.;verbose=false)\n",
    "@btime u(-5.,0.012;verbose=false)"
   ]
  },
  {
   "cell_type": "code",
   "execution_count": null,
   "id": "0704de17",
   "metadata": {},
   "outputs": [],
   "source": [
    "xv = -70:.05:10\n",
    "uv = real.(u.(xv,0.))\n",
    "p1 = plot(xv,uv,legend=:false, fill = (0,:lightblue), lw=3,  fillrange = -1,size=(1000,300),margin=5Plots.mm)\n",
    "ylims!(-0.1, 52)\n",
    "xlabel!(L\"x\")\n",
    "ylabel!(L\"u(x,0)\")\n",
    "savefig(p1, \"5p5_long.pdf\")"
   ]
  },
  {
   "cell_type": "code",
   "execution_count": null,
   "id": "c21d2718",
   "metadata": {},
   "outputs": [],
   "source": [
    "uv2 = real.(u.(xv,0.012))\n",
    "p2 = plot(xv,uv2,legend=:false, fill = (0,:lightblue), lw=3,  fillrange = -1,size=(1000,300),margin=5Plots.mm)\n",
    "ylims!(-0.1, 52)\n",
    "xlabel!(L\"x\")\n",
    "ylabel!(L\"u(x,0.012)\")\n",
    "savefig(p2, \"5p5_long2.pdf\")"
   ]
  },
  {
   "cell_type": "code",
   "execution_count": null,
   "id": "da0df832",
   "metadata": {},
   "outputs": [],
   "source": [
    "u2 = precompute(intervals,h,typevec)\n",
    "@btime u2(-10.,0.)\n",
    "@btime u2(-2.,0.)\n",
    "@btime u2(-0.5,0.)\n",
    "@btime u2(0.5,0.)\n",
    "@btime u2(2.,0.)\n",
    "@btime u2(-100000,100)"
   ]
  },
  {
   "cell_type": "code",
   "execution_count": null,
   "id": "1486000e",
   "metadata": {},
   "outputs": [],
   "source": [
    "uv3 = real.(u2.(xv,0.02))\n",
    "p3 = plot(xv,uv3,legend=:false, fill = (0,:lightblue), lw=3,  fillrange = -1,size=(1000,300),margin=5Plots.mm)\n",
    "ylims!(-0.1, 50.5)\n",
    "xlabel!(L\"x\")\n",
    "ylabel!(L\"u(x,0.02)\")\n",
    "savefig(p3, \"5_long.pdf\")"
   ]
  },
  {
   "cell_type": "code",
   "execution_count": null,
   "id": "0a54b165",
   "metadata": {},
   "outputs": [],
   "source": [
    "xv2 = -100000 .+xv\n",
    "uv4 = real.(u2.(xv2,100.))\n",
    "p4 = plot(xv2,uv4,legend=:false, fill = (0,:lightblue), lw=3,  fillrange = -1,size=(1000,300),margin=5Plots.mm)\n",
    "ylims!(-0.1, 50.5)\n",
    "xlabel!(L\"x\")\n",
    "ylabel!(L\"u(x,100)\")\n",
    "savefig(p4, \"5_long2.pdf\")"
   ]
  },
  {
   "cell_type": "code",
   "execution_count": null,
   "id": "31066a09",
   "metadata": {},
   "outputs": [],
   "source": [
    "intervals = [1.5 2.5]\n",
    "η₁, η₂ = intervals[1], intervals[2]\n",
    "m = η₁/η₂\n",
    "W(m) = 1+m^2+2(m^2*(1-m^2))/(1-m^2-Elliptic.E(m^2)/Elliptic.K(m^2))\n",
    "ξcrit = η₂^2*W(m)/2 #formula for critical ray in 1 band case\n",
    "c = 4ξcrit-5 #further away to keep circles large\n",
    "b = 4η₂^2+1\n",
    "h(j) = z -> 2.\n",
    "typevec = 2*ones(size(intervals,1)) .|> Int\n",
    "u5 = precompute(intervals,[1.; 4.], [10.;1e-10], h,typevec);"
   ]
  },
  {
   "cell_type": "code",
   "execution_count": null,
   "id": "e240d171",
   "metadata": {},
   "outputs": [],
   "source": [
    "xv4 = -20:.005:10\n",
    "tv4 = 0:.005:0.75\n",
    "f1 = (x,t) -> t*c<x<t*b ? NaN : u5(x,t)#sin(x-t^2)\n",
    "f2 = (x,t) -> (t-x/b)*(t-x/c)>1/90 || x<c*t || x>t*b ? NaN : u5(x,t)\n",
    "\n",
    "uvv = real.(f1.(xv4',tv4))\n",
    "uvv2 = real.(f2.(xv4',tv4))"
   ]
  },
  {
   "cell_type": "code",
   "execution_count": null,
   "id": "0ded2625",
   "metadata": {},
   "outputs": [],
   "source": [
    "p9 = contourf(xv4,tv4,uvv2, color=:turbo, levels = 30, size=(1000,600),margin=5Plots.mm, alpha = 0.3, clim=(0, 10))\n",
    "contourf!(xv4,tv4,uvv, color=:turbo, clim=(0, 10))\n",
    "\n",
    "xv5 = -20:0.001:10\n",
    "tv5 = 0:0.001:0.75\n",
    "ff(x,t) = (t-x/b)*(t-x/c)\n",
    "ff1(x,t) = x-c*t\n",
    "ff2(x,t) = x-b*t\n",
    "\n",
    "tv8 = 0:0.0001:0.75\n",
    "xv6 = c*tv8\n",
    "xv7 = b*tv8\n",
    "\n",
    "contour!(xv5, tv5, ff, levels=[1/90], linecolor=:black, lw=3)\n",
    "plot!(xv6, tv8, color=:black, lw=3, label=:false, seriestype=:path)\n",
    "plot!(xv7, tv8, color=:black, lw=3, label=:false, seriestype=:path)\n",
    "xlims!(-20,10)\n",
    "ylims!(0,0.75)\n",
    "xlabel!(L\"x\")\n",
    "ylabel!(L\"t\")\n",
    "savefig(p9, \"wedge.pdf\")"
   ]
  },
  {
   "cell_type": "code",
   "execution_count": null,
   "id": "3a2d1ea2",
   "metadata": {},
   "outputs": [],
   "source": [
    "@btime u5(-10.,0.)\n",
    "@btime u5(-2.,0.)\n",
    "@btime u5(0.5,0.)\n",
    "@btime u5(5.,0.)\n",
    "@btime u5(-10.,0.25)"
   ]
  },
  {
   "cell_type": "code",
   "execution_count": null,
   "id": "d2aef3ed",
   "metadata": {},
   "outputs": [],
   "source": [
    "intervals = [1. 2.; 2.5 3.]\n",
    "function h(j)\n",
    "    if j == 1\n",
    "        return z -> 200.\n",
    "    elseif j == 2\n",
    "        return z -> 2.\n",
    "    end\n",
    "end\n",
    "typevec = 2*ones(size(intervals,1)) .|> Int\n",
    "u3 = precompute(intervals,h,typevec);"
   ]
  },
  {
   "cell_type": "code",
   "execution_count": null,
   "id": "86b17616",
   "metadata": {},
   "outputs": [],
   "source": [
    "xv3 = -10000 .+xv\n",
    "uv5 = real.(u3.(xv3,100.))\n",
    "p5 = plot(xv3,uv5,legend=:false, fill = (0,:lightblue), lw=3,  fillrange = -1,size=(1000,300),margin=5Plots.mm)\n",
    "ylims!(-0.1, 18.5)\n",
    "xlabel!(L\"x\")\n",
    "ylabel!(L\"u(x,100)\")\n",
    "savefig(p5, \"2_long.pdf\")"
   ]
  },
  {
   "cell_type": "code",
   "execution_count": null,
   "id": "1cfd561b",
   "metadata": {},
   "outputs": [],
   "source": [
    "tv = 0.:0.001:2\n",
    "uv6 = real.(u3.(-32tv,tv))\n",
    "p6 = plot(tv,uv6,legend=:false, fill = (0,:lightblue), lw=3,  fillrange = -1,size=(1000,300),margin=5Plots.mm)\n",
    "ylims!(-0.1, 18.5)\n",
    "xlabel!(L\"t\")\n",
    "ylabel!(L\"u(x,t)\")\n",
    "title!(L\"x/t=-32\")\n",
    "savefig(p6, \"2_long2.pdf\")"
   ]
  },
  {
   "cell_type": "code",
   "execution_count": null,
   "id": "7aac7c22",
   "metadata": {},
   "outputs": [],
   "source": [
    "@btime u3(-10.,0.)\n",
    "@btime u3(-2.,0.)\n",
    "@btime u3(0.5,0.)\n",
    "@btime u3(5.,0.)\n",
    "@btime u3(-64.,2.)"
   ]
  },
  {
   "cell_type": "code",
   "execution_count": null,
   "id": "fd1f047f",
   "metadata": {},
   "outputs": [],
   "source": [
    "intervals2 = [1. 2.; 2.5 3.]\n",
    "x,t = -2., 0.01\n",
    "𝔤 = get_g(intervals2);\n",
    "φ(z) = 𝔤(z,x,t)-x*z+4t*z^3"
   ]
  },
  {
   "cell_type": "code",
   "execution_count": null,
   "id": "3f33f2d6",
   "metadata": {},
   "outputs": [],
   "source": [
    "contourf(-3.5:.02:3.5,-0.5:.01:0.5,(x,y) -> real(φ(x+im*y)), color = :turbo,margin=5Plots.mm)\n",
    "xlabel!(L\"\\mathrm{Re}(z)\")\n",
    "ylabel!(L\"\\mathrm{Im}(z)\")\n",
    "title!(L\"\\mathrm{Re}(\\varphi(z))\")\n",
    "savefig(\"re_phi.pdf\")"
   ]
  },
  {
   "cell_type": "code",
   "execution_count": null,
   "id": "0bbf9518",
   "metadata": {},
   "outputs": [],
   "source": [
    "u4 = precompute(intervals,[0.8; 2.25; 3.5],[1e6; 1e5; 1e-12],h,typevec);"
   ]
  },
  {
   "cell_type": "code",
   "execution_count": null,
   "id": "1df54a65",
   "metadata": {},
   "outputs": [],
   "source": [
    "uv7 = real.(u4.(xv3,100.))\n",
    "p7 = plot(xv3,uv7,legend=:false, fill = (0,:lightblue), lw=3,  fillrange = -1,size=(1000,300),margin=5Plots.mm)\n",
    "ylims!(-0.1, 24.5)\n",
    "xlabel!(L\"x\")\n",
    "ylabel!(L\"u(x,100)\")\n",
    "savefig(p7, \"2p2_long.pdf\")"
   ]
  },
  {
   "cell_type": "code",
   "execution_count": null,
   "id": "9107386c",
   "metadata": {},
   "outputs": [],
   "source": [
    "uv8 = real.(u4.(-32tv,tv))\n",
    "p8 = plot(tv,uv8,legend=:false, fill = (0,:lightblue), lw=3,  fillrange = -1,size=(1000,300),margin=5Plots.mm)\n",
    "ylims!(-0.1, 24.5)\n",
    "xlabel!(L\"t\")\n",
    "ylabel!(L\"u(x,t)\")\n",
    "title!(L\"x/t=-32\")\n",
    "savefig(p8, \"2p2_long2.pdf\")"
   ]
  },
  {
   "cell_type": "code",
   "execution_count": null,
   "id": "57a1ddb2",
   "metadata": {},
   "outputs": [],
   "source": [
    "@btime u4(-10.,0.)\n",
    "@btime u4(-2.,0.)\n",
    "@btime u4(0.5,0.)\n",
    "@btime u4(5.,0.)\n",
    "@btime u4(-64.,2.)"
   ]
  },
  {
   "cell_type": "code",
   "execution_count": null,
   "id": "16113930",
   "metadata": {},
   "outputs": [],
   "source": [
    "intervals = [0.25 0.5; 0.8 1.2; 1.5 2.; 2.5 3.; 4. 5.]\n",
    "typevec = [1; 2; 3; 4; 1]#2*ones(size(intervals,1)) .|> Int\n",
    "function h(j)\n",
    "    if j == 1\n",
    "        return z -> 2((z-0.375)^2+1)\n",
    "    elseif j == 2\n",
    "        return z -> 2((z-1)^4+1)\n",
    "    elseif j == 3\n",
    "        return z -> 2((z-1.75)^6+1)\n",
    "    elseif j == 4\n",
    "        return z -> 2(exp(z-2.75)+1)\n",
    "    elseif j == 5\n",
    "        return z -> 2(exp(-(z-4.5)^2)+1)\n",
    "    end\n",
    "end\n",
    "u7 = precompute(intervals,[0.1; 0.7; 2.25; 3.5; 5.5],[1e5; 1000.; 100.; 10.; 1e-6],h,typevec);"
   ]
  },
  {
   "cell_type": "code",
   "execution_count": null,
   "id": "306444da",
   "metadata": {},
   "outputs": [],
   "source": [
    "xv = -70:.05:10\n",
    "uv = real.(u7.(xv,0.))\n",
    "p1 = plot(xv,uv,legend=:false, fill = (0,:lightblue), lw=3,  fillrange = -1,size=(1000,300),margin=5Plots.mm)\n",
    "ylims!(-0.1, 52)\n",
    "xlabel!(L\"x\")\n",
    "ylabel!(L\"u(x,0)\")\n",
    "savefig(p1, \"5p5v_long.pdf\")"
   ]
  },
  {
   "cell_type": "code",
   "execution_count": null,
   "id": "6011d8ed",
   "metadata": {},
   "outputs": [],
   "source": [
    "uv2 = real.(u7.(xv,0.012))\n",
    "p2 = plot(xv,uv2,legend=:false, fill = (0,:lightblue), lw=3,  fillrange = -1,size=(1000,300),margin=5Plots.mm)\n",
    "ylims!(-0.1, 52)\n",
    "xlabel!(L\"x\")\n",
    "ylabel!(L\"u(x,0.012)\")\n",
    "savefig(p2, \"5p5v_longb.pdf\")"
   ]
  },
  {
   "cell_type": "code",
   "execution_count": null,
   "id": "96f77c8b",
   "metadata": {},
   "outputs": [],
   "source": [
    "@btime u7(-10.,0.;verbose=false)\n",
    "@btime u7(-2.,0.;verbose=false)\n",
    "@btime u7(-0.5,0.;verbose=false)\n",
    "@btime u7(0.5,0.;verbose=false)\n",
    "@btime u7(2.,0.;verbose=false)\n",
    "@btime u7(-5.,0.012;verbose=false)"
   ]
  },
  {
   "cell_type": "code",
   "execution_count": null,
   "id": "d998b80f",
   "metadata": {},
   "outputs": [],
   "source": []
  }
 ],
 "metadata": {
  "kernelspec": {
   "display_name": "Julia 1.10.1",
   "language": "julia",
   "name": "julia-1.10"
  },
  "language_info": {
   "file_extension": ".jl",
   "mimetype": "application/julia",
   "name": "julia",
   "version": "1.10.1"
  }
 },
 "nbformat": 4,
 "nbformat_minor": 5
}
